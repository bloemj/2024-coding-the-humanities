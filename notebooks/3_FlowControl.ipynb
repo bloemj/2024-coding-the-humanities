{
 "cells": [
  {
   "cell_type": "markdown",
   "metadata": {
    "id": "PgEPTsqKbpRd"
   },
   "source": [
    "# Python basics 3: Flow Control\n",
    "\n",
    "This notebook contains more basics of Python. Use it as a reference whenever needed."
   ]
  },
  {
   "cell_type": "markdown",
   "metadata": {
    "id": "DvV_db_dbpRh",
    "tags": []
   },
   "source": [
    "## Conditional statements, loops and functions\n",
    "\n",
    "Up till now, you've used the Python language and syntax as a fancy calculator. Most likely you felt that you needed additional elements to prevent replication in your code, or saw that you needed a conditional statement that only executed your code when a particular variable/statement was True/False. \n",
    "\n",
    "Here, we introduce the building blocks for writing such code blocks. Let's take a look at conditional statements first."
   ]
  },
  {
   "cell_type": "markdown",
   "metadata": {
    "id": "2nHh7Xi_bpRh"
   },
   "source": [
    "## Conditional Statements\n",
    "\n",
    "A lot of programming has to do with executing a block of code only if a certain condition is verified. \n",
    "\n",
    "In Python, the `if-then-else` construct has the form:\n",
    "\n",
    "```python\n",
    "if condition1:\n",
    "    # statements\n",
    "elif condition2:\n",
    "    # statements\n",
    "elif condition3:\n",
    "    # statements\n",
    "else:\n",
    "    # statements\n",
    "```\n",
    "\n",
    "Note that the `elif` and `else` clauses are optional. A conditional statement can contain a single `if` block, and nothing else.\n",
    "\n",
    "All methods from the previous notebook that return a boolean (True/False) can be used after an `if` statement. You can of course combine these with the `and` and `or` operators. "
   ]
  },
  {
   "cell_type": "markdown",
   "metadata": {
    "id": "GlKbVnsqbpRi"
   },
   "source": [
    "If you inspect the function below, do you think you can change the `elif` statement into an `if` statement? Would this alter the code? What is the difference? Try playing with the code by adding some `Pear` to the grocerylist. \n",
    "\n",
    "Can you describe what the code is doing?"
   ]
  },
  {
   "cell_type": "code",
   "execution_count": null,
   "metadata": {
    "colab": {
     "base_uri": "https://localhost:8080/"
    },
    "id": "vMjIuBNzbpRj",
    "outputId": "0f8d9269-9ad9-4975-f023-fbcab0dd10cb"
   },
   "outputs": [],
   "source": [
    "fruit = [\"Apple\", \"Pear\", \"Banana\", \"Orange\"]\n",
    "\n",
    "item = \"Pear\"\n",
    "\n",
    "# To remind you that you can check for elements in a list\n",
    "if item in fruit:\n",
    "    print(\"Already on the list!\")\n",
    "    \n",
    "    if fruit.count(item) >= 3:\n",
    "        print(\"It's on the list three times or more!\")\n",
    "    elif fruit.count(item) > 1:\n",
    "        print(\"It's on there twice!\")\n",
    "    # You don't have to finish with an 'else'\n",
    "    \n",
    "else:\n",
    "    print(\"Not on the list yet, adding it!\")\n",
    "    fruit.append(item)\n"
   ]
  },
  {
   "cell_type": "markdown",
   "metadata": {
    "id": "9Df6_wp_bpRk"
   },
   "source": [
    "### Quiz"
   ]
  },
  {
   "cell_type": "markdown",
   "metadata": {
    "id": "l4n6gJ4rbpRk"
   },
   "source": [
    "Finish the following code block. The `input()` function askes the user in the Python interpreter to input some text. Implement the following:\n",
    "\n",
    "    * Print a line with a friendly message, telling the user what their input is\n",
    "    * Check if the input is a digit\n",
    "    * Check if the input meets the > 0 condition \n",
    "    * If the input is a digit and meets the condition, tell the user if it is even or odd\n",
    "    * Otherwise, print another informative message \n",
    "\n",
    "\n"
   ]
  },
  {
   "cell_type": "code",
   "execution_count": null,
   "metadata": {
    "id": "RdBF-AX_bpRk"
   },
   "outputs": [],
   "source": [
    "user_digit = input(\"A number > 0 please: \")\n",
    "# Your code here\n"
   ]
  },
  {
   "cell_type": "markdown",
   "metadata": {
    "id": "7o3PEJVGbpRl"
   },
   "source": [
    "## Flow control / Looping\n",
    "\n",
    "### For Loops\n",
    "\n",
    "Programming is of little use if we cannot repeat an instruction for an intended number of times. In the previous examples, you had to change the code and re-run in if you wanted to play with, for instance, the value of the `item` variable. \n",
    "\n",
    "The `for` statement allows us to define **iterations** (i.e.taking items from an iterable) by following this template:\n",
    "\n",
    "```python\n",
    "for variable in sequence:\n",
    "\t# statements\n",
    "    print(variable)\n",
    "```\n",
    "\n",
    "Little known fact is that the for-loop also has an `else` clause. It's also rarely used:\n",
    "\n",
    "```python\n",
    "for number in [0, 1, 2, 3, 4, 5]:\n",
    "\t# statement\n",
    "    print(number)\n",
    "    \n",
    "    if number > 4:\n",
    "        break\n",
    "        \n",
    "else:\n",
    "\t# statement\n",
    "    print(\"All done!\")\n",
    "```\n",
    "\n",
    "The code in the optional `else` clause is executed if and only if the loop terminates successfully (i.e. without a **`break`**). "
   ]
  },
  {
   "cell_type": "code",
   "execution_count": null,
   "metadata": {
    "id": "hZTL2vkLbpRl"
   },
   "outputs": [],
   "source": [
    "# Let's iterate over our list of fruit\n",
    "\n",
    "for item in fruit:\n",
    "    print(item)"
   ]
  },
  {
   "cell_type": "code",
   "execution_count": null,
   "metadata": {
    "id": "R1B5_xABbpRl"
   },
   "outputs": [],
   "source": [
    "# Or from another function we recall\n",
    "\n",
    "text = \"Lorem ipsum dolor sit amet, consectetur adipiscing elit\"\n",
    "words = text.split()\n",
    "\n",
    "for word in words:\n",
    "    print(word.title())"
   ]
  },
  {
   "cell_type": "code",
   "execution_count": null,
   "metadata": {
    "id": "P2K61iJibpRm"
   },
   "outputs": [],
   "source": [
    "# You can also nest for loops:\n",
    "text = \"Lorem ipsum dolor sit amet, consectetur adipiscing elit\"\n",
    "words = text.split()\n",
    "\n",
    "for word in words:\n",
    "    for character in word:\n",
    "        print(character, end='-')  # What is the 'end' argument doing?"
   ]
  },
  {
   "cell_type": "markdown",
   "metadata": {
    "id": "ogkfQmutbpRm"
   },
   "source": [
    "#### The enumerate function\n",
    "\n",
    "The `enumerate()` is problably the most used among the functions that supports the iteration of an iterable. This function return the current item plus **its index** in the iteration process.\n",
    "\n",
    "You can see that we assign two variable names, `i` and `word` to the outcome of `enumerate()`. \n",
    "What is the datatype that this function is returning? \n",
    "And what are the datatypes of its elements?"
   ]
  },
  {
   "cell_type": "code",
   "execution_count": null,
   "metadata": {
    "id": "h5F7bDyFbpRm"
   },
   "outputs": [],
   "source": [
    "# Use enumerate in the iteration over a list of words\n",
    "text = \"Lorem ipsum dolor sit amet, consectetur adipiscing elit.\"\n",
    "words = text.split()\n",
    "\n",
    "for i, word in enumerate(words):\n",
    "    print (i, \"-->\", word)"
   ]
  },
  {
   "cell_type": "code",
   "execution_count": null,
   "metadata": {
    "id": "rdCbsbIxbpRm"
   },
   "outputs": [],
   "source": [
    "# What is the datatype of the returning value of enumerate(words)?\n",
    "index_words = enumerate(words)\n",
    "index_words = list(index_words)\n",
    "index_words"
   ]
  },
  {
   "cell_type": "markdown",
   "metadata": {
    "id": "egCXgKeUbpRn"
   },
   "source": [
    "Optionally, you can make the `enumerate()` function start at another number:"
   ]
  },
  {
   "cell_type": "code",
   "execution_count": null,
   "metadata": {
    "id": "lb3xZGRRbpRn"
   },
   "outputs": [],
   "source": [
    "for i, word in enumerate(words, 98):\n",
    "    \n",
    "    if i > 100:\n",
    "        break\n",
    "    # No else here?\n",
    "    \n",
    "    print(i, word)"
   ]
  },
  {
   "cell_type": "markdown",
   "metadata": {
    "id": "W52stnECbpRn"
   },
   "source": [
    "#### The range construct\n",
    "\n",
    "The  `range()` construct can be used to control the iteration. It generate lists of numbers on the basis of the following three arguments:\n",
    "\n",
    "- `start` : the first integer of the list\n",
    "(default is 0)\n",
    "- `stop` : one larger the last integer of the list (list stop at n - 1)\n",
    "- `step`: the increment of the list (default is 1)"
   ]
  },
  {
   "cell_type": "code",
   "execution_count": null,
   "metadata": {
    "id": "WCiMZKAGbpRn"
   },
   "outputs": [],
   "source": [
    "# Let's play with range\n",
    "print(range(0,10))\n",
    "print(range(10))\n",
    "print(range(1,10,2))"
   ]
  },
  {
   "cell_type": "markdown",
   "metadata": {
    "id": "LPdR75mrbpRo"
   },
   "source": [
    "This each prints the function name with its arguments. Not very informative at this point...\n",
    "\n",
    "Similar to the call with the `list()` function above, we first have to transform the outcome of this function to a list to make it printable. This happens for some efficient functions that don't put everything in memory at once, but only during each iteration (when you run the code). So basically, the `range()` function produces a list of numbers."
   ]
  },
  {
   "cell_type": "code",
   "execution_count": null,
   "metadata": {
    "id": "T4tOprLfbpRo"
   },
   "outputs": [],
   "source": [
    "print(list(range(100, 1, -10)))  # You can make it reverse with a negative step!"
   ]
  },
  {
   "cell_type": "code",
   "execution_count": null,
   "metadata": {
    "id": "HRHD-N3KbpRo"
   },
   "outputs": [],
   "source": [
    "# Let's use range in a for loop\n",
    "\n",
    "for i in range(1, 10, 2):\n",
    "    print(i)"
   ]
  },
  {
   "cell_type": "markdown",
   "metadata": {
    "id": "RRKlt5zqbpRo"
   },
   "source": [
    "### While Loops\n",
    "\n",
    "The `while` statement allows us to control a loop on the basis of a condition. \n",
    "\n",
    "A `while` loop runs as long as a condition is verified. \n",
    "\n",
    "It has the following general form:\n",
    "\n",
    "```python\n",
    "while condition:\n",
    "\t# statement\n",
    "else:\n",
    "\t# statement\n",
    "```\n",
    "\n",
    "the code in the optional `else` clause is execute if and only if the loops terminates successfully (i.e., without a **`break`**)"
   ]
  },
  {
   "cell_type": "markdown",
   "metadata": {
    "id": "VUvZtFIgbpRo"
   },
   "source": [
    "### Quiz\n",
    "\n",
    "_Think before doing._ What do you think happens when you execute?\n",
    "\n",
    "```python\n",
    "\n",
    "n = 1\n",
    "\n",
    "while n:\n",
    "    print(n)\n",
    "    n += 1\n",
    "```\n",
    "\n",
    "If you dare, you can execute this code."
   ]
  },
  {
   "cell_type": "markdown",
   "metadata": {
    "id": "tvx5SJKvbpRp"
   },
   "source": [
    "More safe is the code below, this does not let you end up in an _infinite loop_. Try executing the code a couple of times and see what it does. What is your longest streak of odd numbers?"
   ]
  },
  {
   "cell_type": "code",
   "execution_count": null,
   "metadata": {
    "id": "pGkczLiObpRp"
   },
   "outputs": [],
   "source": [
    "import random\n",
    "\n",
    "n = 1\n",
    "while n % 2 != 0:\n",
    "    n = random.randrange(99)\n",
    "    print(n)"
   ]
  },
  {
   "cell_type": "markdown",
   "metadata": {
    "id": "_gh7zGGVbpRp"
   },
   "source": [
    "---"
   ]
  },
  {
   "cell_type": "markdown",
   "metadata": {
    "id": "2OghnG89bpRp"
   },
   "source": [
    "### Break and Continue\n",
    "\n",
    "The clauses `break` and `continue` are two statements that allow for a more flexible control of a loop. Intuitively:\n",
    "\n",
    "- `continue` is used to pass to the next iteration of the loop\n",
    "- `break` is used to interrupt the loop abruptly"
   ]
  },
  {
   "cell_type": "code",
   "execution_count": null,
   "metadata": {
    "id": "8zU8_LIAbpRp"
   },
   "outputs": [],
   "source": [
    "# When we encounter 7 we skip to the next step\n",
    "for el in range(1, 10, 2):\n",
    "    if el == 7:\n",
    "        continue\n",
    "    print(el)"
   ]
  },
  {
   "cell_type": "code",
   "execution_count": null,
   "metadata": {
    "id": "Q6fbPEWWbpRp"
   },
   "outputs": [],
   "source": [
    "# When we encounter 7 we stop our loop \n",
    "for el in range(1, 10, 2):\n",
    "    if el == 7:\n",
    "        break\n",
    "    print(el)"
   ]
  },
  {
   "cell_type": "markdown",
   "metadata": {
    "id": "dYdr-UGlbpRq"
   },
   "source": [
    "The `break` influences the execution of the loop in yet another way: when a loop terminates due to a `break` statement, the code embedded in the option `else` clause is skipped."
   ]
  },
  {
   "cell_type": "code",
   "execution_count": null,
   "metadata": {
    "id": "RyA1KDo0bpRq"
   },
   "outputs": [],
   "source": [
    "# The continue statement does not influence the execution of the else block\n",
    "for el in range(1, 10, 2):\n",
    "    if el == 7:\n",
    "        print (\"(let's ignore the \" + str(el) + \")\")\n",
    "        continue\n",
    "    print(el)\n",
    "else:\n",
    "    print (\">>> the iteration ended with the number \" + str(el))"
   ]
  },
  {
   "cell_type": "code",
   "execution_count": null,
   "metadata": {
    "id": "V15cF_UobpRq"
   },
   "outputs": [],
   "source": [
    "# What if we replace continue with break\n",
    "for el in range(1, 10, 2):\n",
    "    if el == 7:\n",
    "        print (\"(we encountered the number \" + str(el) + \", let's break the loop)\")\n",
    "        break\n",
    "    print(el)\n",
    "else:\n",
    "    print (\">>> the iteration ended with the number \" + str(el))"
   ]
  },
  {
   "cell_type": "markdown",
   "metadata": {
    "id": "dfYI-vqpbpRq"
   },
   "source": [
    "### The Pass Statement\n",
    "\n",
    "Given the importance of indentation for Python, sometimes we may need a placeholder that allows us to write down a condition for an `if-then-else` construct or for a `while` loop without writing any statement (maybe just a comment). This is the case in which the `pass` statement comes in handy. \n",
    "\n",
    "In what follows, **nothing happens**:\n",
    "\n",
    "```python\n",
    "if condition1:\n",
    "    pass\n",
    "else:\n",
    "    pass\n",
    "```\n"
   ]
  },
  {
   "cell_type": "code",
   "execution_count": null,
   "metadata": {
    "id": "9enhPMzkbpRq"
   },
   "outputs": [],
   "source": [
    "numbers = range(10)\n",
    "\n",
    "# Handy if you're quickly typing a loop\n",
    "# or function (see further on in this notebook)\n",
    "\n",
    "for n in numbers:\n",
    "    if n % 2 == 0:\n",
    "        pass  # TODO\n",
    "    else:\n",
    "        print(\"Odd!\")"
   ]
  },
  {
   "cell_type": "markdown",
   "metadata": {
    "id": "GbtXtrlMbpRr"
   },
   "source": [
    "---"
   ]
  },
  {
   "cell_type": "markdown",
   "metadata": {
    "id": "8E5dOz8KbpRs"
   },
   "source": [
    "### Quiz\n",
    "\n",
    "The following list contains 100 random extractions (with replacement) of numbers between 1 and 15. \n",
    "\n",
    "Find the number that has never been extracted"
   ]
  },
  {
   "cell_type": "code",
   "execution_count": null,
   "metadata": {
    "id": "Cv2ZrsaSbpRt"
   },
   "outputs": [],
   "source": [
    "random_numbers = [1, 2, 1, 1, 9, 13, 15, 5, 9, 8, 12, 14, 3, 2, 8, 10, 3, 12, 15, 13, 5, 3, 7, 5, 2, 13, 12, 8, 10, 5, 15, 8, 2, 8, 5, 12, 9, 2, 3, 5, 1, 4, 5, 9, 13, 2, 12, 5, 10, 8, 1, 15, 15, 6, 12, 3, 1, 3, 7, 14, 15, 10, 15, 7, 10, 12, 1, 2, 13, 7, 9, 6, 6, 7, 4, 12, 10, 8, 8, 3, 8, 4, 6, 14, 10, 5, 2, 3, 15, 4, 9, 3, 7, 7, 2, 4, 4, 1, 7, 15]"
   ]
  },
  {
   "cell_type": "code",
   "execution_count": null,
   "metadata": {
    "id": "XPH0Li2CbpRt"
   },
   "outputs": [],
   "source": [
    "# Your code here\n",
    "\n"
   ]
  },
  {
   "cell_type": "markdown",
   "metadata": {
    "id": "kPgRBM5fbpRt"
   },
   "source": [
    "---"
   ]
  },
  {
   "cell_type": "markdown",
   "metadata": {
    "id": "PUoIYLuibpRt"
   },
   "source": [
    "## Functions\n",
    "\n",
    "We now discussed the art of looping, to automate bits of your code and prevent repetition. If you know that you're going to use parts of your code more than once, you can make a function out of it. Functions are constructs that allows us to organize portions of code more than once in a program. The alternative way to obtain the same results without functions would be to copy the same portion of code every time it is needed. Organizing your code with functions makes it easier to split your problem into smaller subproblems.\n",
    "\n",
    "We have seen plenty of built-in functions so far. If you used them, you could have recognized them by their parenthesesis after their name. The `print()` functions is such an example. \n",
    "\n",
    "A function **takes optional parameters** (inside the parenthesis) and **optionally returns a value** after it has done something. "
   ]
  },
  {
   "cell_type": "markdown",
   "metadata": {
    "id": "KOLObCmNbpRt"
   },
   "source": [
    "Functions in Python are defined by a `def` statement, following this template:\n",
    "\n",
    "```python\n",
    "\n",
    "def function_name(parameters):\n",
    "    \"\"\"\n",
    "    Documentation on what the function is doing\n",
    "    \"\"\"\n",
    "    \n",
    "    # your statements\n",
    "    result = True\n",
    "    \n",
    "    return result\n",
    "```"
   ]
  },
  {
   "cell_type": "markdown",
   "metadata": {
    "id": "S91lD4C6bpRt"
   },
   "source": [
    "> The list of the parameters required by the function is reported between round brackets right after the name of the function. Each function may have **zero or more** parameters. When a function is called, its parameters are called **arguments**.\n",
    ">\n",
    "> The (optional) documentation string should be placed immediately after the function definition. There are many way to format your **docstring**, [PEP 287](https://www.python.org/dev/peps/pep-0257/) recommends reStructuredText, but more formats are available. See [this tutorial](http://daouzli.com/blog/docstring.html) for an introduction to the topic.\n",
    ">\n",
    "> The **indented** function body contains all the statements that are executed every time the function is called. When a `return` statement is executed, the function exits and its output is the argument of the `return` statement. \n",
    ">\n",
    "> When there is no return statement in the body function, or when a return statement with no arguments is executed, the function  returns `None`"
   ]
  },
  {
   "cell_type": "markdown",
   "metadata": {
    "id": "BnGsh3aLbpRu"
   },
   "source": [
    "For instance, the following function calculates the number of characters in a string:"
   ]
  },
  {
   "cell_type": "code",
   "execution_count": null,
   "metadata": {
    "id": "FUf2PG4TbpRu"
   },
   "outputs": [],
   "source": [
    "def chars(s):\n",
    "    \"\"\"\n",
    "    Calculate the number of characters in a string\n",
    "    \"\"\"\n",
    "    \n",
    "    if type(s) != str:\n",
    "        return \"This is not a string!\"\n",
    "    \n",
    "    r = len(s)\n",
    "    \n",
    "    return r"
   ]
  },
  {
   "cell_type": "markdown",
   "metadata": {
    "id": "T0nrbMhvbpRu"
   },
   "source": [
    "The docstring is saved into a  `__doc__` variable and can be accessed by using the `help()` function or the IPython `?`"
   ]
  },
  {
   "cell_type": "code",
   "execution_count": null,
   "metadata": {
    "id": "S3XRVhhGbpRu"
   },
   "outputs": [],
   "source": [
    "# Don't use this, it is just to make the point\n",
    "print(chars.__doc__)"
   ]
  },
  {
   "cell_type": "code",
   "execution_count": null,
   "metadata": {
    "id": "qJOibB98bpRu"
   },
   "outputs": [],
   "source": [
    "# Use one of this two\n",
    "help(chars)\n",
    "chars?"
   ]
  },
  {
   "cell_type": "markdown",
   "metadata": {
    "id": "tRyIRIjxbpRu"
   },
   "source": [
    "Or keep using the `shift + tab` ipython magic!"
   ]
  },
  {
   "cell_type": "code",
   "execution_count": null,
   "metadata": {
    "id": "MybHD-nEbpRu"
   },
   "outputs": [],
   "source": [
    "chars('test')"
   ]
  },
  {
   "cell_type": "markdown",
   "metadata": {
    "id": "jxVgwUGUbpRv"
   },
   "source": [
    "In order to execute the code included in a function, you have to **call the function**, either in your script or in the interactive shell. For instance:"
   ]
  },
  {
   "cell_type": "code",
   "execution_count": null,
   "metadata": {
    "id": "4PyFCCb2bpRv"
   },
   "outputs": [],
   "source": [
    "chars(\"voodoo\")"
   ]
  },
  {
   "cell_type": "code",
   "execution_count": null,
   "metadata": {
    "id": "eBScujrtbpRv"
   },
   "outputs": [],
   "source": [
    "chars(1979)"
   ]
  },
  {
   "cell_type": "markdown",
   "metadata": {
    "id": "_5yKAbrEbpRv"
   },
   "source": [
    "The `return` is also optional. What happens when you assign a variable to a function call that does not have a return statement? "
   ]
  },
  {
   "cell_type": "code",
   "execution_count": null,
   "metadata": {
    "id": "7aEnjds9bpRv"
   },
   "outputs": [],
   "source": [
    "def tokenize(text):\n",
    "    words = text.split()\n",
    "    \n",
    "    print(words)\n",
    "    \n",
    "    # Forgot something?\n",
    "    \n",
    "words = tokenize(\"What happens when there is no return keyword?\")\n",
    "\n",
    "print(type(words))"
   ]
  },
  {
   "cell_type": "markdown",
   "metadata": {
    "id": "wnJU6BVabpRv"
   },
   "source": [
    "Sometimes, you don't need a return statement, as you're for instance writing a function as some kind of wrapper function, that ties several methods together. Or write the output to a file, instead of to the console. It's best to make clear in the docstring/documentation of the function (using the `\"\"\" \"\"\"` docstring style) what the function takes in, processes, and spits out again. "
   ]
  },
  {
   "cell_type": "markdown",
   "metadata": {
    "id": "3lRnQLGwbpRv"
   },
   "source": [
    "### Parameters\n",
    "\n",
    "A function can receive any number of parameters:"
   ]
  },
  {
   "cell_type": "code",
   "execution_count": null,
   "metadata": {
    "id": "Xx4DPML_bpRv"
   },
   "outputs": [],
   "source": [
    "def higher(n1, n2, n3):\n",
    "    \"\"\"\n",
    "    Find the higher of three numbers\n",
    "    \"\"\"\n",
    "    \n",
    "    if n1 > n2 and n2 >= n3:\n",
    "        return n1\n",
    "    \n",
    "    if n2 >= n3:\n",
    "        return n2\n",
    "    \n",
    "    else:\n",
    "        return n3"
   ]
  },
  {
   "cell_type": "code",
   "execution_count": null,
   "metadata": {
    "id": "2X_5CEpmbpRw"
   },
   "outputs": [],
   "source": [
    "# A parameter can be passed either by position\n",
    "higher(4, 2, 8)"
   ]
  },
  {
   "cell_type": "code",
   "execution_count": null,
   "metadata": {
    "id": "MTCHT224bpRw"
   },
   "outputs": [],
   "source": [
    "# Or by name/keyword\n",
    "higher(n3=8, n1=4, n2=2)"
   ]
  },
  {
   "cell_type": "markdown",
   "metadata": {
    "id": "OUEynmv9bpRw"
   },
   "source": [
    "#### Optional Parameters\n",
    "\n",
    "In some situation it may be useful to have a default parameter value, that is used when a call leaves an arguments **unspecified**."
   ]
  },
  {
   "cell_type": "code",
   "execution_count": null,
   "metadata": {
    "id": "V8rYqDIUbpRw"
   },
   "outputs": [],
   "source": [
    "def higher(n1, n2=0, n3=0):\n",
    "    \"\"\"\n",
    "    Find the higher of three numbers\n",
    "    \"\"\"\n",
    "    \n",
    "    if n1 > n2 and n2 >= n3:\n",
    "        return n1\n",
    "    if n2 >= n3:\n",
    "        return n2\n",
    "    else:\n",
    "        return n3"
   ]
  },
  {
   "cell_type": "code",
   "execution_count": null,
   "metadata": {
    "id": "B6YkicoSbpRw"
   },
   "outputs": [],
   "source": [
    "higher(9,4)"
   ]
  },
  {
   "cell_type": "markdown",
   "metadata": {
    "id": "JMWtCzEubpRw"
   },
   "source": [
    "But what happens now:"
   ]
  },
  {
   "cell_type": "code",
   "execution_count": null,
   "metadata": {
    "id": "NPzn-ZQabpRw"
   },
   "outputs": [],
   "source": [
    "higher(-6, -3)  # How to fix this? "
   ]
  },
  {
   "cell_type": "markdown",
   "metadata": {
    "id": "S3uaHOw-bpRw"
   },
   "source": [
    "#### Arbitrary Number of Parameters\n",
    "\n",
    "A different situation is when we want our function to have an unspecified number of parameters. Python functions admit the so-called \"tuple references\", marked by an asterisk `*` in front of the last parameter  (that becomes a `tuple`)."
   ]
  },
  {
   "cell_type": "code",
   "execution_count": null,
   "metadata": {
    "id": "uonhMjvvbpRx"
   },
   "outputs": [],
   "source": [
    "def print_params(*params):\n",
    "    print (\"your input:\")\n",
    "    print (params)"
   ]
  },
  {
   "cell_type": "code",
   "execution_count": null,
   "metadata": {
    "id": "I08CDCWHbpRx",
    "scrolled": true
   },
   "outputs": [],
   "source": [
    "print_params(\"Down from my ceiling\", \"Drips great noise\", \"It drips on my head through a hole in the roof\") "
   ]
  },
  {
   "cell_type": "markdown",
   "metadata": {
    "id": "BJIoWFPebpRx"
   },
   "source": [
    "---"
   ]
  },
  {
   "cell_type": "markdown",
   "metadata": {
    "id": "7pRQpYJEbpRx"
   },
   "source": [
    "#### Quiz\n",
    "\n",
    "Remember the grocery list. Can you write a function that:\n",
    "* Takes *one or multiple* items as arguments\n",
    "* Takes in an existing dictionary of groceries (keys) and counts (values)\n",
    "* Adds the single (or multiple items) to this dictionary if it is not yet in there and update the count if it is\n",
    "* Returns this (updated) dictionary"
   ]
  },
  {
   "cell_type": "code",
   "execution_count": null,
   "metadata": {
    "id": "8qXossqwbpRx"
   },
   "outputs": [],
   "source": [
    "groceries = {\n",
    "    'kiwi': 8,\n",
    "    'bread': 2,\n",
    "    'banana': 3,\n",
    "    'soy sauce': 1,\n",
    "    'red wine': 1,\n",
    "    'soup': 1\n",
    "}\n",
    "\n",
    "# Your code here\n",
    "\n",
    "\n"
   ]
  },
  {
   "cell_type": "markdown",
   "metadata": {
    "id": "RRU3EFW1bpRx"
   },
   "source": [
    "---"
   ]
  },
  {
   "cell_type": "markdown",
   "metadata": {
    "id": "2bgjmR-pbpRx"
   },
   "source": [
    "## Modules and Packages\n",
    "\n",
    "Python modules are groupings of related code that are structures as to facilitate its re-use. \n",
    "\n",
    "Physically, modules are `.py` files implementing a set of **functions, classes or variables**, as well as **executable statements**, that can be accessed from other modules by using the `import` command."
   ]
  },
  {
   "cell_type": "markdown",
   "metadata": {
    "id": "Z-uooggqbpRx"
   },
   "source": [
    "The `import` command can be used both to import **the whole code** of a module, using the following syntax:\n",
    "\n",
    "```python\n",
    "import module\n",
    "```\n",
    "\n",
    "or just **specific attributes** (one or more functions, variables, classes or a combination of these) with the following syntax:\n",
    "\n",
    "```python\n",
    "from module import name1, name2, name3\n",
    "```"
   ]
  },
  {
   "cell_type": "markdown",
   "metadata": {
    "id": "-QtS4BUhbpRx"
   },
   "source": [
    "For example, if order to know what is our current working directory, we can use the function `getcwd()` available `os` module (see below) in two different ways:"
   ]
  },
  {
   "cell_type": "code",
   "execution_count": null,
   "metadata": {
    "id": "pIBtSimRbpRy"
   },
   "outputs": [],
   "source": [
    "import os\n",
    "os.getcwd()"
   ]
  },
  {
   "cell_type": "code",
   "execution_count": null,
   "metadata": {
    "id": "M71lbz8hbpRy"
   },
   "outputs": [],
   "source": [
    "from os import getcwd\n",
    "getcwd()"
   ]
  },
  {
   "cell_type": "markdown",
   "metadata": {
    "id": "aczqo3M3bpRy"
   },
   "source": [
    "You can think of a **package** as a structured collection of Python modules."
   ]
  },
  {
   "cell_type": "markdown",
   "metadata": {
    "id": "EfsjVLd-bpRy"
   },
   "source": [
    "There are some modules/libraries available in Python as built-in. Take a closer look at three of them:\n",
    "    \n",
    "- Math ([manual](https://docs.python.org/3/library/math.html))\n",
    "- Collections ([manual](https://docs.python.org/3/library/collections.html))\n",
    "- Itertools ([manual](https://docs.python.org/3/library/itertools.html))"
   ]
  },
  {
   "cell_type": "markdown",
   "metadata": {
    "id": "lpebGWzNbpRy"
   },
   "source": [
    "Can you figure out when to use the `defaultdict` and `Counter` from the Collections library? Can you use them in any of the functions/code you wrote above?"
   ]
  },
  {
   "cell_type": "code",
   "execution_count": null,
   "metadata": {
    "id": "6I1Wzpo8bpRy"
   },
   "outputs": [],
   "source": [
    "# Example\n",
    "\n",
    "from collections import Counter\n",
    "\n",
    "# Your code here"
   ]
  },
  {
   "cell_type": "markdown",
   "metadata": {
    "id": "nb6CksgtbpR1"
   },
   "source": [
    "# Exercises\n",
    "\n",
    "## Tasks"
   ]
  },
  {
   "cell_type": "markdown",
   "metadata": {
    "id": "6TcUHr8ibpR1"
   },
   "source": [
    "### Exercise 1\n",
    "\n",
    "Find all words starting with a capital letter from the text in `text` below.\n",
    "\n",
    "Make a list of the most frequent words in this text, but without the words 'the' and 'a'. "
   ]
  },
  {
   "cell_type": "code",
   "execution_count": null,
   "metadata": {
    "id": "J1yr3i4KbpR1"
   },
   "outputs": [],
   "source": [
    "text = \"Right, okay, so right around 9:00 she's gonna get very angry with me. Silence Earthling. my name is Darth Vader. I'm am an extra-terrestrial from the planet Vulcan. That's for messing up my hair. Um, well it's a delorean, right? You're George McFly.\"\n",
    "\n",
    "# Your code here"
   ]
  },
  {
   "cell_type": "markdown",
   "metadata": {
    "id": "lSMATjLPbpR1"
   },
   "source": [
    "### Exercise 2\n",
    "\n",
    "Write a function that:\n",
    "* Takes a string as input\n",
    "* Calculates the frequency of every token/word (separated by white space) in the string\n",
    "* Returns a dictionary of tokens as keys and their frequency in the text as values.\n",
    "* Implement an optional function parameter to make the function ignore capital letters\n",
    "\n",
    "You can use everything you think you need and that you've learnt so far. Test it on the `text` variable value from the previous cell."
   ]
  },
  {
   "cell_type": "code",
   "execution_count": null,
   "metadata": {
    "id": "e6B73KfEbpR2"
   },
   "outputs": [],
   "source": [
    "# Your code here"
   ]
  },
  {
   "cell_type": "markdown",
   "metadata": {
    "id": "QNWL7eVtbpR2"
   },
   "source": [
    "### Exercise 3\n",
    "\n",
    "Adapt the function in the previous exercise so that it also ignores punctuation. \n",
    "\n",
    "Hint: you can find all punctuation characters by calling:\n",
    "        \n",
    "```python\n",
    "import string\n",
    "print(string.punctuation)\n",
    "```"
   ]
  },
  {
   "cell_type": "code",
   "execution_count": null,
   "metadata": {
    "id": "kraYtk2gbpR2"
   },
   "outputs": [],
   "source": [
    "# Your code here"
   ]
  },
  {
   "cell_type": "markdown",
   "metadata": {
    "id": "5DXXl9YhbpR5"
   },
   "source": [
    "### Exercise 4\n",
    "\n",
    "The [factorial](https://en.wikipedia.org/wiki/Factorial) of an integer $n$, defined as:\n",
    "\n",
    "$$\n",
    "n! = \\begin{cases}\n",
    "               1               & n = 1\\\\\n",
    "               n * (n-1)! & \\text{n > 1}\n",
    "           \\end{cases}\n",
    "$$\n",
    "\n",
    "is the product of all positive integers less than or equal to $n$. For example:\n",
    "\n",
    "$$4! = 4 * 3 * 2 * 1$$\n",
    "\n",
    "$$3! = 3 * 2 * 1$$\n",
    "\n",
    "The factorial operation can be implemented in Python both as a recursive function and as an iterative functions. \n",
    "\n",
    "Write one factorial function picking the approach you prefer."
   ]
  },
  {
   "cell_type": "code",
   "execution_count": null,
   "metadata": {
    "id": "zbd5DRz5bpR5"
   },
   "outputs": [],
   "source": [
    "# Your code here\n"
   ]
  },
  {
   "cell_type": "markdown",
   "metadata": {
    "id": "FJIuAyjkbpR6"
   },
   "source": [
    "---"
   ]
  }
 ],
 "metadata": {
  "colab": {
   "name": "2_InputOutput.ipynb",
   "provenance": []
  },
  "kernelspec": {
   "display_name": "Python 3 (ipykernel)",
   "language": "python",
   "name": "python3"
  },
  "language_info": {
   "codemirror_mode": {
    "name": "ipython",
    "version": 3
   },
   "file_extension": ".py",
   "mimetype": "text/x-python",
   "name": "python",
   "nbconvert_exporter": "python",
   "pygments_lexer": "ipython3",
   "version": "3.8.13"
  }
 },
 "nbformat": 4,
 "nbformat_minor": 4
}
