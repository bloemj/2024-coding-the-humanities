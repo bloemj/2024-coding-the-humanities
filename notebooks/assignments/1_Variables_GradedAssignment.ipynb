{
 "cells": [
  {
   "cell_type": "markdown",
   "metadata": {
    "id": "X8NI2UYxmAxm"
   },
   "source": [
    "# Variables: Graded assignment\n",
    "\n",
    "This notebook contains the first graded collaborative assignment of the 2024 Coding the Humanities course, and it is based on the [1. Variables](1_Variables.ipynb) course material."
   ]
  },
  {
   "cell_type": "markdown",
   "metadata": {
    "id": "tDox7v6Zydoa"
   },
   "source": [
    "This is a collaborative assignment. In the text cell below, please include all the names of your group members.\n",
    "\n",
    "Below that, answer the question using a mix of code cells and text cells in a way that would make your answers understandable to outsiders. To explain your code, you can use commenting (#) and/or text cells, similar to what you see in the course materials. Not all answers require code, some are text questions.\n",
    "\n",
    "If you used code or a solution from the internet (such as StackOverflow or ChatGPT) or another external resource, please make reference to it (in any format) and make sure there is a clear explanation of the solution. Unattributed copied code will be considered plagiarism and therefore fraud."
   ]
  },
  {
   "cell_type": "markdown",
   "metadata": {
    "id": "yrkCK50pyv99"
   },
   "source": [
    "**Authors of this answer:**"
   ]
  },
  {
   "cell_type": "markdown",
   "metadata": {
    "id": "vHoYErhC0H6l"
   },
   "source": [
    "## Assignment\n",
    "\n",
    "Below, you will find a list that contains an exerpt of text from Willard V.A. Quine's book \"Word and Object\" (1960). Each word is an item in the list. However, it is a bit messy as it was scanned from paper.\n",
    "\n",
    "1. Firstly, you see there is a page number in the sentence, but you think it was scanned incorrectly. You think it should be 744 instead of 244, and you try to correct this. Why does the solution below not work?"
   ]
  },
  {
   "cell_type": "code",
   "execution_count": null,
   "metadata": {
    "id": "y3af0USf0K2A"
   },
   "outputs": [],
   "source": [
    "rabbit_sentence = [\"Two\", \"pointings\", \"may\", \"be\", \"pointings\", \"to\", \"a\", \"numerically\", \"identical\", \"rabbit\", \",\", \"to\", \"numerically\", \"distinct\", \"rabbit\", \"parts\", \",\"\n",
    "                  , \"and\", \"to\", \"numerically\", \"distinct\", \"rabbit\", \"stages\", \";\", \"the\", \"inscrutability\", \"lies\", \"not\", \"in\", \"resemblance\", \",\", \"but\", \"in\", \"the\", \"anatomy\", \".\"\n",
    "                  , \"Strawson\", \"is\", \"making\", \"this\", \"point\", \"when\", \"he\", \"writes\", \"that\", '\"', \"feature\", \"-\", \"placing\", \"sentences\", \"do\", \"not\", \"introduce\", \"particulars\", \n",
    "                   \"into\", \"our\", \"discourse\", '\"', \"(\", '\"', \"Particular\", \"and\", \"general\", \",\", \"p.\", \"244\", \")\", \".\"]\n",
    "\n",
    "number_index = rabbit_sentence.index(\"244\")\n",
    "rabbit_sentence[number_index] += 500"
   ]
  },
  {
   "cell_type": "markdown",
   "metadata": {
    "id": "GkH7_70Y73uK"
   },
   "source": [
    "Your answer here (text cell):"
   ]
  },
  {
   "cell_type": "markdown",
   "metadata": {
    "id": "O6vh1FE376VY"
   },
   "source": [
    "Provide another solution that does let you add 500 to the number in the list. You can refer to the variables from the code block above without having to re-write them."
   ]
  },
  {
   "cell_type": "code",
   "execution_count": null,
   "metadata": {
    "id": "ryt58O7F68Fk"
   },
   "outputs": [],
   "source": [
    "#your code here"
   ]
  },
  {
   "cell_type": "markdown",
   "metadata": {
    "id": "m1G-l82e8MQz"
   },
   "source": [
    "2. Next, you want to check whether the word \"particular\" occurs in this list. How would you check that with Python code? Do you agree with the answer?"
   ]
  },
  {
   "cell_type": "code",
   "execution_count": null,
   "metadata": {
    "id": "nF0Hk4aF9pJ5"
   },
   "outputs": [],
   "source": [
    "# your code here"
   ]
  },
  {
   "cell_type": "markdown",
   "metadata": {
    "id": "kP_g4EDV9vfh"
   },
   "source": [
    "3. Now you want to know how often the word rabbit is actually used in this sentence. Check it with Python code."
   ]
  },
  {
   "cell_type": "code",
   "execution_count": null,
   "metadata": {
    "id": "B8uJbDKu945S"
   },
   "outputs": [],
   "source": [
    "# your code here"
   ]
  },
  {
   "cell_type": "markdown",
   "metadata": {
    "id": "uV6PvNfD8rCP"
   },
   "source": [
    "4. The list actually contains two sentences, not one. Can you make a new variable containing only the first sentence from the rabbit_sentence variable above? Try to write a solution that does not include any specific number."
   ]
  },
  {
   "cell_type": "code",
   "execution_count": null,
   "metadata": {
    "id": "ancg7DZ_9Hs4"
   },
   "outputs": [],
   "source": [
    "#your code here\n",
    "#first_rabbit_sentence = "
   ]
  },
  {
   "cell_type": "markdown",
   "metadata": {
    "id": "7UP55vJF-GBi"
   },
   "source": [
    "5. Lastly, a tricky one. You want to remove the punctuation from the rabbit_sentence. So, you want to remove ',' and ';' and '.' and '(' and ')' and '\"' and '-' from the list. However, you also want to preserve the original, and have both the one with punctuation and the one without. Can you do this? Print both lists, *as well as their length* to show that they are different."
   ]
  },
  {
   "cell_type": "code",
   "execution_count": null,
   "metadata": {
    "id": "Lx1X1Tr__Z5W"
   },
   "outputs": [],
   "source": [
    "#your code here\n",
    "\n",
    "print(rabbit_sentence)\n",
    "#print(clean_rabbit_sentence)"
   ]
  }
 ],
 "metadata": {
  "colab": {
   "provenance": []
  },
  "kernelspec": {
   "display_name": "Python 3 (ipykernel)",
   "language": "python",
   "name": "python3"
  },
  "language_info": {
   "codemirror_mode": {
    "name": "ipython",
    "version": 3
   },
   "file_extension": ".py",
   "mimetype": "text/x-python",
   "name": "python",
   "nbconvert_exporter": "python",
   "pygments_lexer": "ipython3",
   "version": "3.8.13"
  }
 },
 "nbformat": 4,
 "nbformat_minor": 4
}
