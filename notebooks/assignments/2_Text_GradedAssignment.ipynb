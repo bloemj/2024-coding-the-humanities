{
 "cells": [
  {
   "cell_type": "markdown",
   "metadata": {
    "id": "X8NI2UYxmAxm"
   },
   "source": [
    "# Text: Graded assignment\n",
    "\n",
    "This notebook contains the second graded collaborative assignment of the 2024 Coding the Humanities course, and it is based on the [2. Text](../2_Text.ipynb) course material."
   ]
  },
  {
   "cell_type": "markdown",
   "metadata": {
    "id": "tDox7v6Zydoa"
   },
   "source": [
    "This is a collaborative assignment. In the text cell below, please include all the names of your group members.\n",
    "\n",
    "Below that, answer the question using a mix of code cells and text cells in a way that would make your answers understandable to outsiders. To explain your code, you can use commenting (#) and/or text cells, similar to what you see in the course materials.\n",
    "\n",
    "If you used code or a solution from the internet (such as StackOverflow) or another external resource, please make reference to it (in any format). Unattributed copied code will be considered plagiarism and therefore fraud."
   ]
  },
  {
   "cell_type": "markdown",
   "metadata": {
    "id": "yrkCK50pyv99"
   },
   "source": [
    "**Authors of this answer:**"
   ]
  },
  {
   "cell_type": "markdown",
   "metadata": {
    "id": "vHoYErhC0H6l"
   },
   "source": [
    "## Assignment\n",
    "\n",
    "Below, you will find a string containing the winning songs of the Eurovision Song Contest since the year 2012. Answer the following questions using Python code as much as possible:"
   ]
  },
  {
   "cell_type": "code",
   "execution_count": 1,
   "metadata": {
    "id": "y3af0USf0K2A"
   },
   "outputs": [],
   "source": [
    "eurovision_winners = \"\"\"2013: emmelie de forest - only teardrops (Denmark)\n",
    "2014: conchita wurst - rise like a phoenix (Austria)\n",
    "2015: mans zelmerlow - heroes (Sweden)\n",
    "2016: jamala - 1944 (Ukraine)\n",
    "2017: salvador sobral - amar pelos dois (Portugal)\n",
    "2018: netta - toy (Israel)\n",
    "2019: duncan laurence - arcade (Netherlands)\n",
    "2021: maneskin - zitti e buoni (Italy)\n",
    "2022: kalush orchestra - stefania (Ukraine)\n",
    "2023: loreen - tattoo (Sweden)\n",
    "\"\"\""
   ]
  },
  {
   "cell_type": "markdown",
   "metadata": {},
   "source": [
    "1. Check if the string ends with (Sweden)."
   ]
  },
  {
   "cell_type": "code",
   "execution_count": null,
   "metadata": {},
   "outputs": [],
   "source": [
    "# Your code here"
   ]
  },
  {
   "cell_type": "markdown",
   "metadata": {},
   "source": [
    "2. Print this text titlecased (every word starts with a capital letter, ignore the function words for now)."
   ]
  },
  {
   "cell_type": "code",
   "execution_count": null,
   "metadata": {},
   "outputs": [],
   "source": [
    "# Your code here"
   ]
  },
  {
   "cell_type": "markdown",
   "metadata": {},
   "source": [
    "3. How many different songs are listed? Use f-strings (string formatting) to print your answer in a nice looking way."
   ]
  },
  {
   "cell_type": "code",
   "execution_count": null,
   "metadata": {},
   "outputs": [],
   "source": [
    "# Your code here"
   ]
  },
  {
   "cell_type": "markdown",
   "metadata": {},
   "source": [
    "4. Convert the string to a list of words. Then, make a string out of the list in which each word is on a new line."
   ]
  },
  {
   "cell_type": "code",
   "execution_count": null,
   "metadata": {},
   "outputs": [],
   "source": [
    "# Your code here"
   ]
  },
  {
   "cell_type": "markdown",
   "metadata": {},
   "source": [
    "5. Create a regular expression that returns the names of all the countries that won, and print them, without duplicates. As a reminder, you can use a regex tester website to help you: https://regex101.com/"
   ]
  },
  {
   "cell_type": "code",
   "execution_count": null,
   "metadata": {},
   "outputs": [],
   "source": [
    "# Your code here"
   ]
  },
  {
   "cell_type": "markdown",
   "metadata": {},
   "source": [
    "6. You notice that the 2019 winner is listed as \"Netherlands\" while it should be \"The Netherlands\". Find the index of \"Netherlands\" in the list (not the string) you made in question 4 and fix it in the list. Print the list to verify the result."
   ]
  },
  {
   "cell_type": "code",
   "execution_count": null,
   "metadata": {},
   "outputs": [],
   "source": [
    "# Your code here"
   ]
  }
 ],
 "metadata": {
  "colab": {
   "provenance": []
  },
  "kernelspec": {
   "display_name": "Python 3 (ipykernel)",
   "language": "python",
   "name": "python3"
  },
  "language_info": {
   "codemirror_mode": {
    "name": "ipython",
    "version": 3
   },
   "file_extension": ".py",
   "mimetype": "text/x-python",
   "name": "python",
   "nbconvert_exporter": "python",
   "pygments_lexer": "ipython3",
   "version": "3.8.13"
  }
 },
 "nbformat": 4,
 "nbformat_minor": 4
}
