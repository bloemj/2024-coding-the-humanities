{
 "cells": [
  {
   "cell_type": "markdown",
   "metadata": {
    "id": "MsV62m480HY8"
   },
   "source": [
    "# Getting started"
   ]
  },
  {
   "cell_type": "markdown",
   "metadata": {
    "id": "q1ii-I_S0Ozf"
   },
   "source": [
    "## Running a Jupyter Notebook in Google Colaboratory"
   ]
  },
  {
   "cell_type": "markdown",
   "metadata": {
    "id": "BXnmGHop5mvQ"
   },
   "source": [
    "If you are reading this, you have probably already managed to do this. Nevertheless, here is the basic idea: Using Google Colab, you can open our class materials from Github directly and keep the whole process in the cloud. View the list of class notebooks that are available for running and editing by going to your Google Colab: https://colab.research.google.com/ and loading them using the GitHub option. Enter the GitHub link of our course materials: https://github.com/bloemj/2024-coding-the-humanities and you will see the notebooks. For example, to open this notebook that you are currently reading, choose 0_HelloWorld.ipynb.\n",
    "\n",
    "To start working, save a copy to your own Google Drive, and you will be able to edit the notebook while keeping your changes. If you quit and continue later, open your own copy from Google Drive, not the class copy from Github which will not have your changes,\n",
    "\n",
    "Note that Google Colaboratory only work while you have an active internet connection. If you expect to be working offline, consider installing Python on your own machine:"
   ]
  },
  {
   "cell_type": "markdown",
   "metadata": {
    "id": "dy7M2q7K0HZC"
   },
   "source": [
    "## Installing Python for offline use"
   ]
  },
  {
   "cell_type": "markdown",
   "metadata": {
    "id": "GYn-ouV40HZD"
   },
   "source": [
    "If you wish to have the ability to work on these course materials without an active internet connection, we recommended that you install the full Anaconda Python 3.8 on your own machine, as it sets up your Python environment, together with a bunch of often used packages that you'll use during this course. A guide on installing Anaconda can be found here: https://docs.anaconda.com/anaconda/install/. NB: You don't have to install the optional stuff, such as the PyCharm editor. \n",
    "\n",
    "To run the course materials like this, you will need to know a bit more about how Python works, so we made a separate \"Getting started\" notebook for that: https://github.com/bloemj/2024-coding-the-humanities/blob/master/notebooks/0_HelloWorld_localinstall.ipnyb. \n"
   ]
  },
  {
   "cell_type": "markdown",
   "metadata": {
    "id": "lDDbmY6g0HZF"
   },
   "source": [
    "# Hello World\n",
    "\n",
    "This notebook contains some code to allow you to check if everything runs as intended.\n",
    "\n",
    "[Jupyter notebooks](https://jupyter.org) contain cells of Python code, or text written in [markdown](https://www.markdownguide.org/getting-started/). This cell for instance contains text written in markdown syntax. You can edit it by double clicking on it. You can create new cells using the \"+\" (top right bar), and you can run cells to 'execute' the markdown syntax they contain and see what happens."
   ]
  },
  {
   "cell_type": "markdown",
   "metadata": {
    "id": "2CADL1_M0HZF"
   },
   "source": [
    "The other type of cells contain Python code and need to be executed. You can either do this by clicking on the cell and then on the play button in the top of the window. Or by pressing `shift + ENTER`. Try this with the next cell, and you'll see the result of this first line of Python. "
   ]
  },
  {
   "cell_type": "markdown",
   "metadata": {
    "id": "UwVH2wcA0HZG"
   },
   "source": [
    "**For a more extended revision of these materials, see http://www.karsdorp.io/python-course (Chapter 1).**"
   ]
  },
  {
   "cell_type": "code",
   "execution_count": 1,
   "metadata": {
    "colab": {
     "base_uri": "https://localhost:8080/"
    },
    "id": "U-FJWcoA0HZH",
    "outputId": "6156319d-326a-424f-9a9f-914e6d1bc91d"
   },
   "outputs": [
    {
     "name": "stdout",
     "output_type": "stream",
     "text": [
      "Hello World!\n"
     ]
    }
   ],
   "source": [
    "# It is customary for your first program to print Hello World! This is how you do it in Python.\n",
    "\n",
    "print(\"Hello World!\")"
   ]
  },
  {
   "cell_type": "code",
   "execution_count": null,
   "metadata": {
    "id": "umHZLgio0HZI"
   },
   "outputs": [],
   "source": [
    "# You can comment your code using '#'. What you write afterwards won't be interpreted as code.\n",
    "# This comes in handy if you want to comment on smaller bits of your code. Or if you want to\n",
    "# add a TODO for yourself to remind you that some code needs to be added or revised."
   ]
  },
  {
   "cell_type": "markdown",
   "metadata": {
    "id": "fWQ4fLEW0HZL"
   },
   "source": [
    "## Python versions\n",
    "\n",
    "![You can also do images in markdown!](https://www.python.org/static/img/python-logo@2x.png)\n",
    "\n",
    "Like all software, Python sometimes gets updated and thus there are different versions. Every Python version adds, but sometimes also changes functionality, so if you use a different version, you may not always get the same results. If you are using Google Colab, your code will be running using version 3.8.\n",
    "\n",
    "This course was mainly designed for version 3.8."
   ]
  },
  {
   "cell_type": "markdown",
   "metadata": {
    "id": "jMLEpE3g0HZL"
   },
   "source": [
    "Let's check the Python version you are using by importing the `sys` package. Try running the next cell and see it's output."
   ]
  },
  {
   "cell_type": "code",
   "execution_count": 2,
   "metadata": {
    "colab": {
     "base_uri": "https://localhost:8080/"
    },
    "id": "st3VJcog0HZM",
    "outputId": "fdeff1aa-6506-4f99-f462-10ac953f5aac"
   },
   "outputs": [
    {
     "name": "stdout",
     "output_type": "stream",
     "text": [
      "/usr/bin/python3\n",
      "3.7.12 (default, Sep 10 2021, 00:21:48) \n",
      "[GCC 7.5.0]\n",
      "sys.version_info(major=3, minor=7, micro=12, releaselevel='final', serial=0)\n"
     ]
    }
   ],
   "source": [
    "import sys\n",
    "\n",
    "print(sys.executable)  # the path where the Python executable is located\n",
    "print(sys.version)  # its version\n",
    "print(sys.version_info)"
   ]
  },
  {
   "cell_type": "markdown",
   "metadata": {
    "id": "4NHmMiT40HZM"
   },
   "source": [
    "You now printed the version of Python that your Google Colab instance is using or that you have installed."
   ]
  },
  {
   "cell_type": "markdown",
   "metadata": {
    "id": "iAKTDhLM0HZO"
   },
   "source": [
    "### Exercise\n",
    "Try printing your own name using the `print()` function. "
   ]
  },
  {
   "cell_type": "code",
   "execution_count": 4,
   "metadata": {
    "id": "QEFNDPiB0HZP"
   },
   "outputs": [],
   "source": [
    "# TODO: print your own name\n"
   ]
  },
  {
   "cell_type": "code",
   "execution_count": 3,
   "metadata": {
    "id": "TxuQsg0i0HZP"
   },
   "outputs": [],
   "source": [
    "# TODO: print your own name and your age on one line\n"
   ]
  },
  {
   "cell_type": "markdown",
   "metadata": {
    "id": "hQLjrEm10HZP",
    "tags": []
   },
   "source": [
    "If all of the above cells were executed without any errors, you're clear to go! \n",
    "\n",
    "However, if you did get an error, you should start debugging. Most of the times, the errors returned by Python are quite meaningful. Perhaps you got this message:\n",
    "\n",
    "```python\n",
    "NameError                                 Traceback (most recent call last)\n",
    "/tmp/ipykernel_122714/1178004598.py in <module>\n",
    "      1 # TODO: print your own name\n",
    "      2 \n",
    "----> 3 print(myname)\n",
    "\n",
    "NameError: name 'myname' is not defined\n",
    "``` \n",
    "\n",
    "If you go over this error message, you can see:\n",
    "\n",
    "1. The type of error, in this example `NameError` with some extra explanation\n",
    "2. The location in your code where the error occurred or was _raised_, indicated with the ----> arrow\n",
    "\n",
    "In this case, you have forgotten to write your name in \"quotes\" to indicate that it should be interpreted as text, rather than a variable in the program, and thus Python tries to look for a variable named myname, which does not exist. We will go over this difference in the first lecture.\n"
   ]
  },
  {
   "cell_type": "markdown",
   "metadata": {
    "id": "BexxAPkt0HZP"
   },
   "source": [
    "If you face other errors, then Google (or DuckDuckGo etc.) is your friend. You'll see tons of questions on Python related problems on websites such as Stack Overflow. It's tempting to simply copy paste a coding pattern from there into your own code. But if you do, make sure you fully understand what is going on. Also, in assignments in this course, we ask you to:\n",
    "1. Specify a URL or source of the website/book you got your copied code from\n",
    "2. Explain in a _short_ text or through comments by line what the copied code is doing\n",
    "\n",
    "This will be repeated during the lectures.\n",
    "\n",
    "However, if you're still stuck, you can open a discussion in our [Canvas course](https://canvas.uva.nl/courses/37320/discussion_topics). You're also very much invited to engage in threads on the discussion board of others and help them out. Debugging, solving, and explaining these coding puzzles for sure makes you a better programmer!"
   ]
  },
  {
   "cell_type": "markdown",
   "metadata": {
    "id": "k5Cztcsp0HZQ",
    "tags": []
   },
   "source": [
    "# Level of the course\n",
    "The code below does some basic things using Python. If you think you already master the 'Python basics' shown below, then get into contact with us for some more challenging exercises!\n",
    "\n",
    "If not, do not worry, we will cover these things in the first two classes. Our course is aimed at beginners."
   ]
  },
  {
   "cell_type": "markdown",
   "metadata": {
    "id": "Ou2CfT8-0HZQ"
   },
   "source": [
    "### Variables and basic operations"
   ]
  },
  {
   "cell_type": "code",
   "execution_count": null,
   "metadata": {
    "id": "pZZHBXZo0HZQ"
   },
   "outputs": [],
   "source": [
    "a = 2\n",
    "b = a"
   ]
  },
  {
   "cell_type": "code",
   "execution_count": null,
   "metadata": {
    "id": "QjNmtNS10HZQ"
   },
   "outputs": [],
   "source": [
    "# Or, assign two variables at the same time\n",
    "c, d = 10, 20"
   ]
  },
  {
   "cell_type": "code",
   "execution_count": null,
   "metadata": {
    "id": "2bnkcTnh0HZQ"
   },
   "outputs": [],
   "source": [
    "c"
   ]
  },
  {
   "cell_type": "code",
   "execution_count": null,
   "metadata": {
    "id": "JZkzYatf0HZQ"
   },
   "outputs": [],
   "source": [
    "b += c"
   ]
  },
  {
   "cell_type": "code",
   "execution_count": null,
   "metadata": {
    "id": "S_2I7XWp0HZR"
   },
   "outputs": [],
   "source": [
    "# Just typing a variable name in the Python interpreter (= terminal/shell/cell) also returns/prints its value\n",
    "a"
   ]
  },
  {
   "cell_type": "code",
   "execution_count": null,
   "metadata": {
    "id": "icJb2iJU0HZR"
   },
   "outputs": [],
   "source": [
    "# Now, what's the value of b?\n",
    "b"
   ]
  },
  {
   "cell_type": "code",
   "execution_count": null,
   "metadata": {
    "id": "9BUbqPH50HZR"
   },
   "outputs": [],
   "source": [
    "# Why the double equals sign? How is this different from the above a = b ? \n",
    "a == b"
   ]
  },
  {
   "cell_type": "code",
   "execution_count": null,
   "metadata": {
    "id": "z0yXvh6z0HZR"
   },
   "outputs": [],
   "source": [
    "# Because the ≠ sign is hard to find on your keyboard\n",
    "a != b"
   ]
  },
  {
   "cell_type": "code",
   "execution_count": null,
   "metadata": {
    "id": "kQstdK5g0HZS"
   },
   "outputs": [],
   "source": [
    "s = \"Hello World!\"\n",
    "\n",
    "print(s)"
   ]
  },
  {
   "cell_type": "code",
   "execution_count": null,
   "metadata": {
    "id": "YJVvpeHw0HZS"
   },
   "outputs": [],
   "source": [
    "s[-1]"
   ]
  },
  {
   "cell_type": "code",
   "execution_count": null,
   "metadata": {
    "id": "OreSbELN0HZS"
   },
   "outputs": [],
   "source": [
    "s[:5]"
   ]
  },
  {
   "cell_type": "code",
   "execution_count": null,
   "metadata": {
    "id": "EWGHfzBw0HZS"
   },
   "outputs": [],
   "source": [
    "s[6:]"
   ]
  },
  {
   "cell_type": "code",
   "execution_count": null,
   "metadata": {
    "id": "vkgR6_f10HZS"
   },
   "outputs": [],
   "source": [
    "s[6:-1]"
   ]
  },
  {
   "cell_type": "code",
   "execution_count": null,
   "metadata": {
    "id": "b6ewJYao0HZT"
   },
   "outputs": [],
   "source": [
    "s"
   ]
  },
  {
   "cell_type": "code",
   "execution_count": null,
   "metadata": {
    "id": "BznPTGX80HZT"
   },
   "outputs": [],
   "source": [
    "words = [\"A\", \"list\", \"of\", \"strings\"]\n",
    "words"
   ]
  },
  {
   "cell_type": "code",
   "execution_count": null,
   "metadata": {
    "id": "UyxXotbR0HZT"
   },
   "outputs": [],
   "source": [
    "letters = list(s) # Names in green are reserved by Python: avoid using them as variable names\n",
    "letters"
   ]
  },
  {
   "cell_type": "markdown",
   "metadata": {
    "id": "D8rvmj690HZT"
   },
   "source": [
    "If you do have bound a value to a built-in function of Python by accident, you can undo this by restarting your 'kernel' in Jupyter Notebook. Click `Kernel` and then `Restart` in the bar in the top of the screen. You'll make Python loose it's memory of previously declared variables. This also means that you must re-run all cells again if you need the executions and their outcomes."
   ]
  },
  {
   "cell_type": "code",
   "execution_count": null,
   "metadata": {
    "id": "G-dUE8IT0HZT"
   },
   "outputs": [],
   "source": [
    "# Sets are unordered collections of unique elements\n",
    "unique_letters = set(letters)\n",
    "unique_letters"
   ]
  },
  {
   "cell_type": "code",
   "execution_count": null,
   "metadata": {
    "id": "ArgkBRkM0HZT"
   },
   "outputs": [],
   "source": [
    "# Variables have a certain data type. \n",
    "# Python is very flexible with allowing you to assign variables to data as you like\n",
    "# If you need a certain data type, you need to check it explicitly\n",
    "\n",
    "type(s)"
   ]
  },
  {
   "cell_type": "code",
   "execution_count": null,
   "metadata": {
    "id": "YF6iKbiO0HZT"
   },
   "outputs": [],
   "source": [
    "print(\"If you forgot the value of variable 'a':\", a)\n",
    "type(a)"
   ]
  },
  {
   "cell_type": "code",
   "execution_count": null,
   "metadata": {
    "id": "rhhBm4gi0HZU"
   },
   "outputs": [],
   "source": [
    "type(2.3)"
   ]
  },
  {
   "cell_type": "code",
   "execution_count": null,
   "metadata": {
    "id": "u2hm9uYE0HZU"
   },
   "outputs": [],
   "source": [
    "type(\"Hello\")"
   ]
  },
  {
   "cell_type": "code",
   "execution_count": null,
   "metadata": {
    "id": "-f_Vt7av0HZU"
   },
   "outputs": [],
   "source": [
    "type(letters)"
   ]
  },
  {
   "cell_type": "code",
   "execution_count": null,
   "metadata": {
    "id": "8lAggS9D0HZU"
   },
   "outputs": [],
   "source": [
    "type(unique_letters)"
   ]
  }
 ],
 "metadata": {
  "colab": {
   "collapsed_sections": [
    "LuvIbH1E0HZU"
   ],
   "name": "0_HelloWorld.ipynb",
   "provenance": []
  },
  "kernelspec": {
   "display_name": "Python 3 (ipykernel)",
   "language": "python",
   "name": "python3"
  },
  "language_info": {
   "codemirror_mode": {
    "name": "ipython",
    "version": 3
   },
   "file_extension": ".py",
   "mimetype": "text/x-python",
   "name": "python",
   "nbconvert_exporter": "python",
   "pygments_lexer": "ipython3",
   "version": "3.8.13"
  },
  "toc": {
   "nav_menu": {},
   "number_sections": true,
   "sideBar": true,
   "skip_h1_title": false,
   "title_cell": "Table of Contents",
   "title_sidebar": "Contents",
   "toc_cell": false,
   "toc_position": {},
   "toc_section_display": true,
   "toc_window_display": false
  }
 },
 "nbformat": 4,
 "nbformat_minor": 4
}
